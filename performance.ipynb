{
 "cells": [
  {
   "cell_type": "code",
   "execution_count": 23,
   "metadata": {},
   "outputs": [],
   "source": [
    "import os\n",
    "import matplotlib.pyplot as plt"
   ]
  },
  {
   "cell_type": "code",
   "execution_count": 24,
   "metadata": {},
   "outputs": [],
   "source": [
    "def Rebuild_All():\n",
    "    print(\"===== Rebuilding Code =====\")\n",
    "    os.system(\"mkdir ./build/ && mkdir ./base/build/ && mkdir ./gpu_naive/build/\")\n",
    "    output = os.system(\"cd ./build/ && cmake -DCMAKE_BUILD_TYPE=Release ..\")\n",
    "    print(output)\n",
    "    output = os.system(\"cd ./base/build/ && cmake -DCMAKE_BUILD_TYPE=Release ..\")\n",
    "    print(output)    \n",
    "    output = os.system(\"cd ./gpu_naive/build/ && cmake -DCMAKE_BUILD_TYPE=Release ..\")\n",
    "    print(output)\n",
    "\n"
   ]
  },
  {
   "cell_type": "code",
   "execution_count": 25,
   "metadata": {},
   "outputs": [
    {
     "name": "stdout",
     "output_type": "stream",
     "text": [
      "===== Rebuilding Code =====\n",
      "-- Cray Programming Environment 2.7.20 C\n",
      "-- Cray Programming Environment 2.7.20 CXX\n",
      "-- Configuring done\n",
      "-- Generating done\n",
      "-- Build files have been written to: /global/u2/d/depetro1/ParallelComp/ScaleAI/build\n",
      "0\n",
      "-- Cray Programming Environment 2.7.20 C\n",
      "-- Cray Programming Environment 2.7.20 CXX\n",
      "-- Configuring done\n",
      "-- Generating done\n",
      "-- Build files have been written to: /global/u2/d/depetro1/ParallelComp/ScaleAI/base/build\n",
      "0\n",
      "-- Cray Programming Environment 2.7.20 C\n",
      "-- Cray Programming Environment 2.7.20 CXX\n",
      "-- Configuring done\n",
      "-- Generating done\n",
      "-- Build files have been written to: /global/u2/d/depetro1/ParallelComp/ScaleAI/gpu_naive/build\n",
      "0\n"
     ]
    },
    {
     "name": "stderr",
     "output_type": "stream",
     "text": [
      "mkdir: cannot create directory ‘./build/’: File exists\n"
     ]
    }
   ],
   "source": [
    "Rebuild_All()"
   ]
  },
  {
   "cell_type": "code",
   "execution_count": 26,
   "metadata": {},
   "outputs": [],
   "source": [
    "import subprocess\n",
    "def Test_Base(nlayer=1000, width=512, seed = 0):\n",
    "    ret, val = subprocess.getstatusoutput(f\"./base/build/base -n {nlayer} -w {width} -s {seed}\")\n",
    "    # print(f\"Base[n={nlayer}, w={width}]:\", val)\n",
    "    return float(val)"
   ]
  },
  {
   "cell_type": "code",
   "execution_count": 27,
   "metadata": {},
   "outputs": [],
   "source": [
    "def Test_GPU_Naive(nlayer=1000, width=512, NUM_THREADS = 32, seed = 0):\n",
    "    ret, val = subprocess.getstatusoutput(f\"./gpu_naive/build/gpu -n {nlayer} -w {width} -s {seed} -t {NUM_THREADS}\")\n",
    "    # print(f\"GPU_Naive[n={nlayer}, w={width}]:\", val)\n",
    "    return float(val)"
   ]
  },
  {
   "cell_type": "code",
   "execution_count": 28,
   "metadata": {},
   "outputs": [],
   "source": [
    "def Test_GPU(nlayer=1000, width=512, NUM_THREADS = 32, seed = 0):\n",
    "    ret, val = subprocess.getstatusoutput(f\"./build/gpu -n {nlayer} -w {width} -s {seed} -t {NUM_THREADS}\")\n",
    "    # print(f\"GPU[n={nlayer}, w={width}]:\", val)\n",
    "    return float(val)"
   ]
  },
  {
   "cell_type": "code",
   "execution_count": 29,
   "metadata": {},
   "outputs": [
    {
     "data": {
      "text/plain": [
       "0.469707"
      ]
     },
     "execution_count": 29,
     "metadata": {},
     "output_type": "execute_result"
    }
   ],
   "source": [
    "Test_Base(5000, 1024)\n",
    "Test_GPU_Naive(5000, 1024)\n",
    "Test_GPU(5000, 1024)"
   ]
  },
  {
   "cell_type": "code",
   "execution_count": 30,
   "metadata": {},
   "outputs": [],
   "source": [
    "import numpy as np\n",
    "import matplotlib.pyplot as plt"
   ]
  },
  {
   "cell_type": "code",
   "execution_count": 43,
   "metadata": {},
   "outputs": [
    {
     "name": "stdout",
     "output_type": "stream",
     "text": [
      "Calculating width: 10\n",
      "Calculating width: 100\n",
      "Calculating width: 1000\n",
      "Calculating width: 10000\n",
      "Calculating width: 100000\n"
     ]
    },
    {
     "data": {
      "image/png": "[encoded data removed]",
      "text/plain": [
       "<Figure size 432x288 with 1 Axes>"
      ]
     },
     "metadata": {
      "needs_background": "light"
     },
     "output_type": "display_data"
    }
   ],
   "source": [
    "width_arr = [10, 100, 1000, 10000, 100000]\n",
    "result_arr_Base = []\n",
    "result_arr_GPU_Naive = []\n",
    "result_arr_GPU = []\n",
    "\n",
    "for width in width_arr:\n",
    "    print(\"Calculating width:\", width)\n",
    "    result_arr_Base.append( Test_Base(1000, width) )\n",
    "    result_arr_GPU_Naive.append( Test_GPU_Naive(1000, width, 1024) )\n",
    "    result_arr_GPU.append(Test_GPU(1000, width, 1024))\n",
    "\n",
    "x = np.array(width_arr)\n",
    "fig, ax = plt.subplots()\n",
    "ax.plot(x, result_arr_Base, label='Baseline')\n",
    "ax.plot(x, result_arr_GPU_Naive, label='Naive GPU')\n",
    "ax.plot(x, result_arr_GPU, label='Optimized GPU')\n",
    "\n",
    "ax.set_xlabel('Network Width')\n",
    "ax.set_ylabel('Time')\n",
    "ax.set_title('Neural Network Width Impact On Performace')\n",
    "ax.legend()\n",
    "plt.show()"
   ]
  },
  {
   "cell_type": "code",
   "execution_count": 46,
   "metadata": {},
   "outputs": [
    {
     "name": "stdout",
     "output_type": "stream",
     "text": [
      "Calculating nalyer: 10\n",
      "Calculating nalyer: 100\n",
      "Calculating nalyer: 1000\n",
      "Calculating nalyer: 10000\n",
      "Calculating nalyer: 100000\n",
      "Calculating nalyer: 1000000\n"
     ]
    }
   ],
   "source": [
    "nlayer_arr = [10, 100, 1000, 10000, 100000, 1000000, 10000000]\n",
    "result_arr_Base = []\n",
    "result_arr_GPU_Naive = []\n",
    "result_arr_GPU = []\n",
    "\n",
    "for nlayer in nlayer_arr:\n",
    "    print(\"Calculating nalyer:\", nlayer)\n",
    "    result_arr_Base.append( Test_Base(nlayer, 10000) )\n",
    "    result_arr_GPU_Naive.append( Test_GPU_Naive(nlayer, 10000, 128) )\n",
    "    result_arr_GPU.append(Test_GPU(nlayer, 10000, 128))\n",
    "\n",
    "x = np.array(nlayer_arr)\n",
    "fig, ax = plt.subplots()\n",
    "ax.plot(x, result_arr_Base, label='Baseline')\n",
    "ax.plot(x, result_arr_GPU_Naive, label='Naive GPU')\n",
    "ax.plot(x, result_arr_GPU, label='Optimized GPU')\n",
    "\n",
    "ax.set_xlabel('Network Layers')\n",
    "ax.set_ylabel('Time')\n",
    "ax.set_title('Neural Network Layer Count Performace Impact')\n",
    "ax.legend()\n",
    "plt.show()"
   ]
  },
  {
   "cell_type": "code",
   "execution_count": 33,
   "metadata": {},
   "outputs": [
    {
     "name": "stdout",
     "output_type": "stream",
     "text": [
      "Calculating nalyer: 10\n",
      "Calculating nalyer: 100\n",
      "Calculating nalyer: 1000\n",
      "Calculating nalyer: 10000\n"
     ]
    },
    {
     "data": {
      "image/png": "[encoded data removed]",
      "text/plain": [
       "<Figure size 432x288 with 1 Axes>"
      ]
     },
     "metadata": {
      "needs_background": "light"
     },
     "output_type": "display_data"
    }
   ],
   "source": [
    "nlayer_arr = [10, 100, 1000, 10000]\n",
    "result_arr_Base = []\n",
    "result_arr_GPU_Naive = []\n",
    "result_arr_GPU = []\n",
    "\n",
    "for nlayer in nlayer_arr:\n",
    "    print(\"Calculating nalyer:\", nlayer)\n",
    "    result_arr_Base.append( Test_Base(nlayer, nlayer_arr) )\n",
    "    result_arr_GPU_Naive.append( Test_GPU_Naive(nlayer, nlayer_arr) )\n",
    "    result_arr_GPU.append(Test_GPU(nlayer, nlayer_arr))\n",
    "\n",
    "x = np.array(nlayer_arr)\n",
    "fig, ax = plt.subplots()\n",
    "ax.plot(x, result_arr_Base, label='Baseline')\n",
    "ax.plot(x, result_arr_GPU_Naive, label='Naive GPU')\n",
    "ax.plot(x, result_arr_GPU, label='Optimized GPU')\n",
    "\n",
    "ax.set_xlabel('Network Layers')\n",
    "ax.set_ylabel('Time')\n",
    "ax.set_title('Neural Network Size Performace Impact')\n",
    "ax.legend()\n",
    "plt.show()"
   ]
  }
 ],
 "metadata": {
  "kernelspec": {
   "display_name": "base",
   "language": "python",
   "name": "python3"
  },
  "language_info": {
   "codemirror_mode": {
    "name": "ipython",
    "version": 3
   },
   "file_extension": ".py",
   "mimetype": "text/x-python",
   "name": "python",
   "nbconvert_exporter": "python",
   "pygments_lexer": "ipython3",
   "version": "3.9.7"
  },
  "orig_nbformat": 4
 },
 "nbformat": 4,
 "nbformat_minor": 2
}
